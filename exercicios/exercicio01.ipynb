{
 "cells": [
  {
   "cell_type": "markdown",
   "metadata": {
    "collapsed": true,
    "pycharm": {
     "name": "#%% md\n"
    }
   },
   "source": [
    "## Exercícios - Aula 01"
   ]
  },
  {
   "cell_type": "markdown",
   "metadata": {
    "collapsed": false,
    "pycharm": {
     "name": "#%% md\n"
    }
   },
   "source": [
    "1) Escolha um número entre 1 e 10 e armazene ele numa variável chamada *segredo*. Escolha outro número entre 1 e 10 novamente e salve ele numa variável chamada *chute*. Depois, escreva testes condicionais usando *if*, *else* e *elif* para exibir a mensagem \"muito menor\" se *chute* é menor do que *segredo*, \"muito maior\" se *chute* é maior do que *segredo* e \"na mosca\" se *chute* for igual à *segredo*.\n",
    "\n",
    "2) Escreva uma cadeia de instrucões *if*-*elif*-*else* que determine o estágio da vida de uma pessoa. Defina um valor para a variável *idade* e então:\n",
    "- Se a pessoa tiver menos de 2 anos de idade, mostre uma mensagem dizendo que ela ainda é um bebê.\n",
    "- Se a pessoa tiver pelo menos 2 anos, mas menos de 4, mostre uma mensagem dizendo que ela é uma crianca.\n",
    "- Se a pessoa tiver pelo menos 4 anos, mas menos de 13, mostre uma mensagem dizendo que ela é um(a) goroto(a).\n",
    "- Se a pessoa tiver pelo menos 13 anos, mas menos de 20, mostre uma mensagem dizendo que ela é um(a) adolescente.\n",
    "- Se a pessoa tiver pelo menos 20 anos, mas menos de 65, mostre uma mensagem dizendo que ela é um(a) adulto(a).\n",
    "- Se a pessoa tiver 65 anos ou mais, mostre uma mensagem dizendo que ela é uma pessoa idosa.\n",
    "\n",
    "3) Crie uma lista com cinco ou mais nomes de usuários, incluindo o nome \"admin\". Suponha que você esteja escrevendo um código que exibirá uma saudacão a cada usuário depois que eles fizerem login em um site. Percorra a lista com um laco e mostre uma saudacão para cada usuário:\n",
    "- Se o nome do usuário for \"admin\", mostre uma saudacão especial, por exemplo, \"Olá admin, gostaria de ver o relatório de status?\"\n",
    "- Caso contrário, mostre a saudacão genérica, como \"Olá José, obrigado por fazer login novamente\".\n",
    "\n",
    "4) A partir do exercício anterior, modifique o código criado para acrescentar um teste if que verifica se a lista de usuarios está vazia.\n",
    "- Se a lista de usuários estiver vazia, mostre a mensagem \"Precisamos encontrar alguns usuários!\". Remova todos os nomes de usuários da lista e certifique-se de que essa mensagem aparecerá.\n",
    "\n",
    "5) Crie um programa que simule o modo como os sites garantem que todos tenham um nome de usuário único.\n",
    "- Crie uma lista chamada *current_users* com cinco ou mais nomes de usuários\n",
    "- Crie uma list chamada *new_users* com cinco nomes de usuários. Garanta que dois dos novos usuários também estejam na lista *current_users*\n",
    "- Percorra a lista *new_users* com um laco para ver se cada novo nome de usuário já foi usado. Em caso afirmativo, mostre uma mensagem afirmando que a pessoa deverá fornecer um novo nome. Se um usuário não foi usado, apresente uma mensagem dizendo que o nome do usuário está disponível.\n",
    "- Certifique-se de que sua comparacão não levará em conta as diferencas entre letras maiúsculas e minúsculas. Se \"Pedro\" foi usado, \"PEDRO\" não deverá ser aceito.\n",
    "\n",
    "6) Números ordinais indicam sua posicão em uma lista, por exemplo, 1st, 2nd, em inglês. A maioria dos números ordinais nessa língua termina com th, exceto, 1, 2 e 3.\n",
    "- Armazene os números de 1 a 9 em uma lista.\n",
    "- Pecorra essa lista com um laco.\n",
    "- Use uma cadeia de instrucões *if*-*elif*-*else* que exiba a terminacão apropriada para cada número ordinal. Sua saída deverá conter \"1st 2nd 3rd 4th 5th 6th 7th 8th 9th\" e cada resultado deve estar em uma linha separada\n"
   ]
  },
  {
   "cell_type": "code",
   "execution_count": 1,
   "metadata": {},
   "outputs": [
    {
     "name": "stdout",
     "output_type": "stream",
     "text": [
      "muito menor\n"
     ]
    }
   ],
   "source": [
    "#Q1\n",
    "segredo = 8\n",
    "chute = 3\n",
    "if chute > segredo:\n",
    "    print('muito maior')\n",
    "elif chute < segredo:\n",
    "    print('muito menor')\n",
    "else:\n",
    "    print('na mosca')"
   ]
  },
  {
   "cell_type": "code",
   "execution_count": 9,
   "metadata": {},
   "outputs": [
    {
     "name": "stdout",
     "output_type": "stream",
     "text": [
      "adulto\n"
     ]
    }
   ],
   "source": [
    "#Q2\n",
    "idade = 23\n",
    "if idade < 2:\n",
    "    print('bebê')\n",
    "elif idade == 2 or idade < 4:\n",
    "    print('criança')\n",
    "elif idade == 4 or idade < 13:\n",
    "    print('garota')\n",
    "elif idade == 13 or idade < 20:\n",
    "    print('adolescente')\n",
    "elif idade == 20 or idade < 65:\n",
    "    print('adulta')\n",
    "elif idade >= 65:\n",
    "    print('idosa')"
   ]
  },
  {
   "cell_type": "code",
   "execution_count": 35,
   "metadata": {},
   "outputs": [
    {
     "name": "stdout",
     "output_type": "stream",
     "text": [
      "Bem-vindo de volta, admin. Ver novas mensagens?\n",
      "Bem-vindo(a), Paula. Obrigada por visitar.\n",
      "Bem-vindo(a), Vitor. Obrigada por visitar.\n",
      "Bem-vindo(a), Theo. Obrigada por visitar.\n",
      "Bem-vindo(a), Selma. Obrigada por visitar.\n"
     ]
    }
   ],
   "source": [
    "#Q3 e Q4\n",
    "usuarios = ['admin', 'Paula', 'Vitor', 'Theo', 'Selma']\n",
    "for i in usuarios:\n",
    "     if i == 'admin':\n",
    "          print('Bem-vindo de volta, admin. Ver novas mensagens?')\n",
    "     else:\n",
    "          print(f'Bem-vindo(a), {i}. Obrigada por visitar.')\n",
    "if usuarios == []:\n",
    "     print('Precisamos achar usuários!')"
   ]
  },
  {
   "cell_type": "code",
   "execution_count": 76,
   "metadata": {},
   "outputs": [
    {
     "name": "stdout",
     "output_type": "stream",
     "text": [
      "Rebeca -> Nome disponível\n",
      "pAula -> Nome de usuário já escolhido\n",
      "Matheus -> Nome disponível\n",
      "THEO -> Nome de usuário já escolhido\n",
      "Lucas -> Nome disponível\n"
     ]
    }
   ],
   "source": [
    "#Q5\n",
    "current_users = ['Paula', 'Vitor', 'Theo', 'Selma', 'Diego']\n",
    "new_users = ['Rebeca', 'pAula', 'Matheus', 'THEO', 'Lucas']\n",
    "check_users = []\n",
    "for x in current_users:\n",
    "    check_users.append(x.upper())\n",
    "for i in new_users:\n",
    "    if i.upper() in check_users:\n",
    "        print(i, '-> Nome de usuário já escolhido')\n",
    "    else:\n",
    "        print(i, '-> Nome disponível')"
   ]
  },
  {
   "cell_type": "code",
   "execution_count": 71,
   "metadata": {},
   "outputs": [
    {
     "name": "stdout",
     "output_type": "stream",
     "text": [
      "1st\n",
      "2nd\n",
      "3rd\n",
      "4th\n",
      "5th\n",
      "6th\n",
      "7th\n",
      "8th\n",
      "9th\n"
     ]
    }
   ],
   "source": [
    "#Q6\n",
    "numbers = '1 2 3 4 5 6 7 8 9'\n",
    "num_list = numbers.split(' ')\n",
    "for i in num_list:\n",
    "    if i == '1':\n",
    "        print(i + 'st')\n",
    "    elif i == '2':\n",
    "        print(i + 'nd')\n",
    "    elif i == '3':\n",
    "        print(i + 'rd')\n",
    "    else:\n",
    "        print(i + 'th')"
   ]
  }
 ],
 "metadata": {
  "kernelspec": {
   "display_name": "Python 3",
   "language": "python",
   "name": "python3"
  },
  "language_info": {
   "codemirror_mode": {
    "name": "ipython",
    "version": 3
   },
   "file_extension": ".py",
   "mimetype": "text/x-python",
   "name": "python",
   "nbconvert_exporter": "python",
   "pygments_lexer": "ipython3",
   "version": "3.10.4"
  },
  "vscode": {
   "interpreter": {
    "hash": "3ad933181bd8a04b432d3370b9dc3b0662ad032c4dfaa4e4f1596c548f763858"
   }
  }
 },
 "nbformat": 4,
 "nbformat_minor": 0
}
