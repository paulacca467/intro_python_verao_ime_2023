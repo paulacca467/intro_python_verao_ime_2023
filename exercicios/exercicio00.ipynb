{
 "cells": [
  {
   "cell_type": "markdown",
   "metadata": {
    "collapsed": false,
    "pycharm": {
     "name": "#%% md\n"
    }
   },
   "source": [
    "## Exercícios - aula 00"
   ]
  },
  {
   "cell_type": "markdown",
   "metadata": {
    "collapsed": false,
    "pycharm": {
     "name": "#%% md\n"
    }
   },
   "source": [
    "1) Quantos segundos há em uma hora? Multiplique o número de segundos em um minuto pelo número de minutos em uma hora.\n",
    "\n",
    "2) Armazene o resultado desta operacão em uma variável chamada *segundos_por_hora*\n",
    "\n",
    "3) Quantos segundos há em um dia? Use a sua variável *segundos_por_hora*. Armazene o resultado desta última operacão em uma variável chamada *segundos_por_dia*\n",
    "\n",
    "4) Divida segundos_por_dia por segundos_por_hora. Use a divisão do tipo floating-point division (tabela abaixo) e salve o resultado na variavel *div_float*.\n",
    "\n",
    "5) Divida a variável *segundos_por_dia* por *segundos_por_hora* novamente, porém usando a divisão do tipo integer division (tabela abaixo) e salve o resultado na variável *div_int*.\n",
    "\n",
    "6) Com excessão da casa decimal, o valor obtido na questão 6 é igual ao obtido na questão 5? Faca a comparacão dos resultados e diga qual o tipo de variável o Python retorna como resposta."
   ]
  },
  {
   "cell_type": "code",
   "execution_count": 1,
   "metadata": {},
   "outputs": [
    {
     "data": {
      "text/plain": [
       "3600"
      ]
     },
     "execution_count": 1,
     "metadata": {},
     "output_type": "execute_result"
    }
   ],
   "source": [
    "#Q1\n",
    "60 * 60"
   ]
  },
  {
   "cell_type": "code",
   "execution_count": 2,
   "metadata": {},
   "outputs": [],
   "source": [
    "#Q2 \n",
    "segundos_por_hora = 60 * 60"
   ]
  },
  {
   "cell_type": "code",
   "execution_count": 3,
   "metadata": {},
   "outputs": [],
   "source": [
    "#Q3\n",
    "segundos_por_dia = segundos_por_hora * 24"
   ]
  },
  {
   "cell_type": "code",
   "execution_count": 4,
   "metadata": {},
   "outputs": [],
   "source": [
    "#Q4\n",
    "div_float = segundos_por_dia / segundos_por_hora"
   ]
  },
  {
   "cell_type": "code",
   "execution_count": 5,
   "metadata": {},
   "outputs": [],
   "source": [
    "#Q5\n",
    "div_int = segundos_por_dia // segundos_por_hora"
   ]
  },
  {
   "cell_type": "code",
   "execution_count": 8,
   "metadata": {},
   "outputs": [
    {
     "name": "stdout",
     "output_type": "stream",
     "text": [
      "24.0\n",
      "24\n",
      "<class 'float'>\n",
      "<class 'int'>\n"
     ]
    }
   ],
   "source": [
    "#Q6\n",
    "print(div_float)\n",
    "print(div_int)\n",
    "\n",
    "print(type(div_float))\n",
    "print(type(div_int))\n",
    "\n",
    "# Com exceção da casa decimal, o valor númerico das duas operações é o mesmo,\n",
    "# mas o Python entende como tipos diferentes de objeto, sendo o 24.0 (div_float) um float e \n",
    "# 24 (div_int) um inteiro."
   ]
  },
  {
   "cell_type": "code",
   "execution_count": null,
   "metadata": {},
   "outputs": [],
   "source": []
  }
 ],
 "metadata": {
  "kernelspec": {
   "display_name": "Python 3",
   "language": "python",
   "name": "python3"
  },
  "language_info": {
   "codemirror_mode": {
    "name": "ipython",
    "version": 3
   },
   "file_extension": ".py",
   "mimetype": "text/x-python",
   "name": "python",
   "nbconvert_exporter": "python",
   "pygments_lexer": "ipython3",
   "version": "3.10.4"
  },
  "vscode": {
   "interpreter": {
    "hash": "3ad933181bd8a04b432d3370b9dc3b0662ad032c4dfaa4e4f1596c548f763858"
   }
  }
 },
 "nbformat": 4,
 "nbformat_minor": 0
}
